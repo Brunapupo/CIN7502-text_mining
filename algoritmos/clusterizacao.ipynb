{
  "nbformat": 4,
  "nbformat_minor": 0,
  "metadata": {
    "colab": {
      "provenance": [],
      "include_colab_link": true
    },
    "kernelspec": {
      "name": "python3",
      "display_name": "Python 3"
    },
    "language_info": {
      "name": "python"
    }
  },
  "cells": [
    {
      "cell_type": "markdown",
      "metadata": {
        "id": "view-in-github",
        "colab_type": "text"
      },
      "source": [
        "<a href=\"https://colab.research.google.com/github/Brunapupo/CIN7502-text_mining/blob/main/clusterizacao.ipynb\" target=\"_parent\"><img src=\"https://colab.research.google.com/assets/colab-badge.svg\" alt=\"Open In Colab\"/></a>"
      ]
    },
    {
      "cell_type": "markdown",
      "source": [
        "# **CIN 7502 - Mineração de Texto**\n",
        "\n",
        "Algoritmos de Clusterização\n",
        "\n"
      ],
      "metadata": {
        "id": "aF7QBG4SPmaE"
      }
    },
    {
      "cell_type": "code",
      "source": [
        "import nltk\n",
        "nltk.download('stopwords')\n",
        "nltk.download('punkt')"
      ],
      "metadata": {
        "id": "EGPjwgOyUkTr"
      },
      "execution_count": null,
      "outputs": []
    },
    {
      "cell_type": "markdown",
      "source": [
        "# Corpus Textual 1 (aleatório)"
      ],
      "metadata": {
        "id": "iga7lGsWP57f"
      }
    },
    {
      "cell_type": "code",
      "execution_count": null,
      "metadata": {
        "id": "i7sABLADPcnU"
      },
      "outputs": [],
      "source": [
        "documentos = [\n",
        "    \"O rápido raposo marrom pula sobre o cão preguiçoso.\",\n",
        "    \"Nunca pule sobre o cão preguiçoso rapidamente.\",\n",
        "    \"O sol brilhante brilha sobre as montanhas.\",\n",
        "    \"As montanhas são altas e o sol é brilhante.\",\n",
        "    \"Um gato pula alto e corre rápido.\",\n",
        "    \"Gatos e cães podem ser bons animais de estimação.\",\n",
        "    \"O clima está ensolarado e quente hoje.\",\n",
        "    \"Está chovendo gatos e cães.\",\n",
        "    \"Correr e pular são bons exercícios.\",\n",
        "    \"Exercite-se diariamente para manter-se saudável e em forma.\",\n",
        "    \"O violão toca uma melodia suave na praia.\",\n",
        "    \"A banda de rock fez um show incrível ontem à noite.\",\n",
        "    \"Ela gosta de ouvir música clássica enquanto estuda.\",\n",
        "    \"O novo álbum da cantora pop está no topo das paradas.\",\n",
        "    \"Ele aprendeu a tocar piano aos cinco anos de idade.\",\n",
        "    \"A música ao vivo no bar atrai muitos clientes.\",\n",
        "    \"O festival de música foi um sucesso total.\",\n",
        "    \"Eles dançaram ao som da música eletrônica a noite toda.\",\n",
        "    \"A orquestra sinfônica apresentou um concerto magnífico.\",\n",
        "    \"Ele tem uma vasta coleção de discos de vinil.\",\n",
        "    \"O time de futebol ganhou o campeonato estadual.\",\n",
        "    \"Ela corre todos os dias para se preparar para a maratona.\",\n",
        "    \"O jogador de basquete fez uma cesta espetacular.\",\n",
        "    \"Eles praticam natação três vezes por semana.\",\n",
        "    \"O torneio de tênis atraiu jogadores de todo o mundo.\",\n",
        "    \"O ciclista percorreu uma longa distância em pouco tempo.\",\n",
        "    \"O boxeador nocauteou seu oponente no segundo round.\",\n",
        "    \"O estádio estava lotado para a final do campeonato.\",\n",
        "    \"Ela é uma talentosa ginasta e já ganhou várias medalhas.\",\n",
        "    \"O surfista pegou uma onda perfeita na última competição.\",\n",
        "    \"Paris é conhecida como a cidade do amor.\",\n",
        "    \"Eles visitaram as belas praias do Nordeste do Brasil.\",\n",
        "    \"A viagem de trem pelos Alpes suíços foi inesquecível.\",\n",
        "    \"O guia turístico explicou a história do antigo castelo.\",\n",
        "    \"Ela tirou fotos incríveis durante o safári na África.\",\n",
        "    \"O cruzeiro pelo Mediterrâneo foi uma experiência única.\",\n",
        "    \"Eles exploraram as ruínas maias no México.\",\n",
        "    \"A visita à Torre Eiffel foi o ponto alto da viagem.\",\n",
        "    \"Ele adora viajar e conhecer novas culturas.\",\n",
        "    \"O resort nas Maldivas oferece vistas deslumbrantes do oceano.\",\n",
        "    \"O novo smartphone tem uma câmera de alta resolução.\",\n",
        "    \"Eles desenvolveram um aplicativo inovador para educação.\",\n",
        "    \"A inteligência artificial está transformando a indústria.\",\n",
        "    \"O carro elétrico é uma alternativa sustentável ao tradicional.\",\n",
        "    \"Ele trabalha como engenheiro de software em uma grande empresa.\",\n",
        "    \"O drone capturou imagens aéreas impressionantes.\",\n",
        "    \"A realidade virtual oferece experiências imersivas.\",\n",
        "    \"Eles lançaram um novo sistema operacional mais eficiente.\",\n",
        "    \"O avanço da tecnologia médica salva muitas vidas.\",\n",
        "    \"Os jogos de videogame estão cada vez mais realistas.\",\n",
        "    \"A programação de computadores é uma habilidade valiosa.\",\n",
        "    \"Os robôs podem realizar tarefas repetitivas com precisão.\",\n",
        "    \"A segurança cibernética é crucial na era digital.\",\n",
        "    \"Ela está estudando ciência de dados na universidade.\",\n",
        "    \"O livro eletrônico está ganhando popularidade entre os leitores.\",\n",
        "    \"O carro autônomo promete revolucionar o transporte.\",\n",
        "    \"Eles instalaram painéis solares para gerar energia limpa.\",\n",
        "    \"A impressão 3D permite a criação de objetos personalizados.\",\n",
        "    \"A criptomoeda é uma forma de investimento digital.\",\n",
        "    \"Ele comprou um novo laptop para trabalhar em casa.\",\n",
        "    \"O sistema de reconhecimento facial é usado em segurança.\",\n",
        "    \"Eles utilizam big data para analisar tendências de mercado.\",\n",
        "    \"O smartwatch monitora a saúde e a atividade física.\",\n",
        "    \"Ela escreveu um blog sobre suas viagens pelo mundo.\",\n",
        "    \"O documentário sobre a natureza foi fascinante.\",\n",
        "    \"O mercado de ações pode ser volátil e imprevisível.\",\n",
        "    \"Eles adotaram um cachorro de um abrigo de animais.\",\n",
        "    \"A culinária italiana é famosa pelos seus sabores.\",\n",
        "    \"O professor explicou a teoria da relatividade.\",\n",
        "    \"O museu exibe artefatos históricos de várias épocas.\",\n",
        "    \"A meditação ajuda a reduzir o estresse e a ansiedade.\",\n",
        "    \"O café da manhã é a refeição mais importante do dia.\",\n",
        "    \"A reciclagem contribui para a conservação do meio ambiente.\",\n",
        "    \"Eles participaram de uma maratona de caridade.\",\n",
        "    \"O filme de ficção científica foi um grande sucesso.\",\n",
        "    \"Ela começou a aprender uma nova língua este ano.\",\n",
        "    \"O curso de fotografia atrai muitos entusiastas.\",\n",
        "    \"O jardim botânico é um lugar tranquilo e bonito.\",\n",
        "    \"Eles planejam abrir um restaurante vegetariano.\",\n",
        "    \"A energia renovável é essencial para o futuro.\",\n",
        "    \"Ele escreveu um romance baseado em fatos reais.\",\n",
        "    \"A feira de tecnologia apresentou inovações incríveis.\",\n",
        "    \"Eles construíram uma casa com materiais sustentáveis.\",\n",
        "    \"A exposição de arte moderna atrai muitos visitantes.\",\n",
        "    \"A pandemia mudou a forma como trabalhamos e vivemos.\",\n",
        "    \"A leitura diária pode melhorar a cognição.\",\n",
        "    \"Eles começaram um negócio de roupas online.\",\n",
        "    \"A música clássica pode ser relaxante e inspiradora.\",\n",
        "    \"A prática regular de yoga traz muitos benefícios.\",\n",
        "    \"O desmatamento ameaça a biodiversidade do planeta.\",\n",
        "    \"Ela ganhou uma bolsa de estudos para a universidade.\",\n",
        "    \"O jogo de xadrez desenvolve o raciocínio lógico.\",\n",
        "    \"A educação é a chave para o desenvolvimento pessoal.\",\n",
        "    \"O festival de cinema apresenta filmes de diversos países.\",\n",
        "    \"Eles plantaram uma horta no quintal de casa.\",\n",
        "    \"A robótica está avançando rapidamente.\",\n",
        "    \"A astronomia nos ajuda a entender o universo.\",\n",
        "    \"O teatro é uma forma de arte antiga e apreciada.\",\n",
        "    \"Eles adotaram uma abordagem minimalista na vida.\",\n",
        "    \"O vinho é uma bebida apreciada em todo o mundo.\",\n",
        "    \"A dança é uma expressão cultural importante.\",\n",
        "    \"A ciência está em constante evolução.\",\n",
        "    \"O voluntariado pode ser uma experiência gratificante.\",\n",
        "    \"A moda muda com as tendências sociais.\",\n",
        "    \"A arquitetura moderna é funcional e estética.\",\n",
        "    \"Eles fizeram uma trilha na floresta tropical.\",\n",
        "    \"O esporte une pessoas de diferentes culturas.\",\n",
        "    \"A culinária japonesa é conhecida pela sua precisão.\",\n",
        "    \"O festival cultural celebra a diversidade.\",\n",
        "    \"A tecnologia de blockchain está ganhando espaço.\",\n",
        "    \"Eles fizeram uma viagem de carro pela costa.\",\n",
        "    \"O teatro de rua atrai muitos espectadores.\",\n",
        "    \"A genética estuda os genes e a hereditariedade.\",\n",
        "    \"O festival de comida oferece sabores diversos.\",\n",
        "    \"A reciclagem de plástico é importante para o ambiente.\",\n",
        "    \"A música jazz tem raízes profundas na história.\",\n",
        "    \"Eles participaram de um retiro de meditação.\",\n",
        "    \"O carnaval é uma festa popular no Brasil.\",\n",
        "    \"A física quântica desafia nossa compreensão.\",\n",
        "    \"O teatro musical combina atuação e canto.\",\n",
        "    \"A biologia estuda os seres vivos e seus processos.\",\n",
        "    \"Eles fizeram uma viagem de mochilão pela Europa.\",\n",
        "    \"O cinema independente produz filmes únicos.\",\n",
        "    \"A engenharia civil constrói infraestruturas essenciais.\",\n",
        "    \"O café é uma bebida apreciada globalmente.\",\n",
        "    \"A fotografia captura momentos especiais.\",\n",
        "    \"A astronomia observa os corpos celestes.\",\n",
        "    \"A música clássica tem uma longa tradição.\",\n",
        "    \"A medicina estuda o corpo humano e suas doenças.\",\n",
        "    \"A tecnologia avança em ritmo acelerado.\",\n",
        "    \"A poesia expressa sentimentos profundos.\",\n",
        "    \"O esporte promove a saúde e o bem-estar.\",\n",
        "    \"A culinária francesa é renomada mundialmente.\",\n",
        "    \"O turismo sustentável preserva os recursos naturais.\",\n",
        "    \"A ciência da computação desenvolve novas tecnologias.\",\n",
        "    \"O festival de literatura reúne escritores famosos.\",\n",
        "    \"A dança contemporânea explora novos movimentos.\",\n",
        "    \"A biotecnologia aplica processos biológicos na indústria.\",\n",
        "    \"O cinema de animação encanta todas as idades.\",\n",
        "    \"A arquitetura histórica reflete o passado.\",\n",
        "    \"A leitura estimula a imaginação e o conhecimento.\",\n",
        "    \"O futebol é o esporte mais popular do mundo.\",\n",
        "    \"A astronomia busca respostas sobre o cosmos.\",\n",
        "    \"O festival de música atrai milhares de pessoas.\",\n",
        "    \"A moda sustentável é uma tendência crescente.\",\n",
        "    \"A culinária mexicana é rica em sabores e cores.\",\n",
        "    \"O teatro de marionetes encanta crianças e adultos.\",\n",
        "    \"A robótica educacional ensina programação.\",\n",
        "    \"A ciência ambiental estuda o impacto humano.\",\n",
        "    \"O vinho tinto é produzido com uvas específicas.\",\n",
        "    \"A arte contemporânea desafia convenções.\",\n",
        "    \"O esporte motiva a disciplina e a perseverança.\",\n",
        "    \"A música folclórica preserva tradições culturais.\",\n",
        "    \"A viagem de trem oferece paisagens deslumbrantes.\",\n",
        "    \"A arquitetura gótica é conhecida por suas catedrais.\",\n",
        "    \"A tecnologia de nuvem permite armazenar dados online.\",\n",
        "    \"A música clássica tem efeitos positivos no cérebro.\",\n",
        "    \"O esporte e a saúde estão intrinsecamente ligados.\",\n",
        "    \"A culinária indiana é famosa pelo uso de especiarias.\",\n",
        "    \"O teatro ao ar livre oferece uma experiência única.\",\n",
        "    \"A biologia molecular estuda as moléculas da vida.\",\n",
        "    \"O cinema de horror explora os medos humanos.\",\n",
        "    \"A engenharia elétrica desenvolve sistemas de energia.\",\n",
        "    \"A fotografia de paisagem captura a beleza natural.\",\n",
        "    \"O turismo de aventura é procurado por muitos.\",\n",
        "    \"A arquitetura barroca é caracterizada por detalhes exuberantes.\",\n",
        "    \"A inteligência artificial está revolucionando a medicina.\",\n",
        "    \"A música country tem raízes na música folclórica americana.\",\n",
        "    \"O esporte adaptado promove inclusão e acessibilidade.\",\n",
        "    \"A culinária brasileira é rica e diversa.\",\n",
        "    \"O teatro experimental desafia normas tradicionais.\",\n",
        "    \"A genética médica ajuda a diagnosticar doenças.\",\n",
        "    \"O cinema documentário registra eventos reais.\",\n",
        "    \"A engenharia mecânica desenvolve máquinas e dispositivos.\",\n",
        "    \"A astronomia amadora é um hobby fascinante.\",\n",
        "    \"O turismo cultural enriquece o conhecimento histórico.\",\n",
        "    \"A arquitetura moderna muitas vezes usa vidro e aço.\",\n",
        "    \"A programação é uma habilidade essencial no mundo moderno.\",\n",
        "    \"A música de ópera combina teatro e canto.\",\n",
        "    \"O esporte aquático inclui natação e polo aquático.\",\n",
        "    \"A culinária tailandesa é conhecida por seus sabores picantes.\",\n",
        "    \"O teatro infantil é educativo e divertido.\",\n",
        "    \"A biotecnologia agrícola melhora a produção de alimentos.\",\n",
        "    \"O cinema de fantasia cria mundos imaginários.\",\n",
        "    \"A engenharia de software desenvolve programas de computador.\",\n",
        "    \"A leitura de poesia pode ser uma experiência introspectiva.\",\n",
        "    \"O turismo ecológico promove a preservação ambiental.\",\n",
        "    \"A arquitetura renascentista é marcada pela simetria.\",\n",
        "    \"A música de jazz é improvisada e expressiva.\",\n",
        "    \"O esporte competitivo exige treinamento intenso.\",\n",
        "    \"A culinária chinesa é variada e saborosa.\",\n",
        "    \"O teatro de comédia faz o público rir.\",\n",
        "    \"A física nuclear estuda o núcleo dos átomos.\",\n",
        "    \"O cinema de ação é cheio de cenas emocionantes.\",\n",
        "    \"A engenharia química desenvolve processos industriais.\",\n",
        "    \"A fotografia de retrato captura a essência das pessoas.\",\n",
        "    \"O turismo de luxo oferece experiências exclusivas.\",\n",
        "    \"A arquitetura sustentável visa minimizar o impacto ambiental.\",\n",
        "    \"A inteligência artificial pode analisar grandes volumes de dados.\",\n",
        "    \"A música eletrônica é produzida com equipamentos digitais.\",\n",
        "    \"O esporte radical inclui atividades como paraquedismo.\",\n",
        "    \"A culinária mediterrânea é conhecida por ser saudável.\",\n",
        "    \"O teatro dramático explora emoções profundas.\",\n",
        "    \"A genética forense ajuda na resolução de crimes.\",\n",
        "    \"O cinema de aventura é cheio de ação e exploração.\",\n",
        "    \"A engenharia de produção otimiza processos de fabricação.\",\n",
        "    \"A astronomia observa galáxias distantes.\",\n",
        "    \"O turismo rural oferece tranquilidade e contato com a natureza.\",\n",
        "    \"A arquitetura clássica é influenciada pela antiguidade.\",\n",
        "    \"A programação de jogos é uma área em crescimento.\",\n",
        "    \"A música coral é cantada por grupos de pessoas.\",\n",
        "    \"O esporte de inverno inclui esqui e snowboard.\",\n",
        "    \"A culinária africana é rica em tradições.\",\n",
        "    \"O teatro de fantoches diverte e educa.\",\n",
        "    \"A biotecnologia marinha estuda organismos do oceano.\",\n",
        "    \"O cinema experimental desafia convenções tradicionais.\",\n",
        "    \"A engenharia de materiais desenvolve novos compostos.\",\n",
        "    \"A fotografia de moda é uma indústria glamourosa.\",\n",
        "    \"O turismo de negócios envolve viagens para eventos corporativos.\",\n",
        "    \"A arquitetura brutalista é caracterizada por concreto exposto.\",\n",
        "    \"A inteligência artificial pode aprender e se adaptar.\",\n",
        "    \"A música folk preserva tradições culturais.\",\n",
        "    \"O esporte coletivo promove o trabalho em equipe.\",\n",
        "    \"A culinária árabe é famosa por seus pratos saborosos.\",\n",
        "    \"O teatro musical combina música, dança e atuação.\",\n",
        "    \"A física teórica explora as leis do universo.\",\n",
        "    \"O cinema de ficção científica imagina futuros alternativos.\",\n",
        "    \"A engenharia ambiental busca soluções sustentáveis.\",\n",
        "    \"A astronomia estuda estrelas e planetas.\",\n",
        "    \"O turismo de saúde inclui viagens para tratamentos médicos.\",\n",
        "    \"A arquitetura futurista imagina construções inovadoras.\",\n",
        "    \"A programação web cria sites e aplicativos online.\",\n",
        "    \"A música de reggae é conhecida por seu ritmo relaxante.\",\n",
        "    \"O esporte de aventura inclui escalada e rafting.\",\n",
        "    \"A culinária peruana é famosa por seu ceviche.\",\n",
        "    \"O teatro contemporâneo explora temas modernos.\",\n",
        "    \"A genética evolutiva estuda as mudanças nas espécies.\",\n",
        "    \"O cinema de animação utiliza técnicas diversas.\",\n",
        "    \"A engenharia biomédica desenvolve tecnologias para a saúde.\",\n",
        "    \"A leitura de romances é um passatempo popular.\",\n",
        "    \"O turismo gastronômico explora culinárias locais.\",\n",
        "    \"A arquitetura paisagística cria espaços ao ar livre.\",\n",
        "    \"A inteligência artificial pode prever tendências.\",\n",
        "    \"A música de blues é expressiva e melancólica.\",\n",
        "    \"O esporte de resistência inclui maratonas e triatlos.\",\n",
        "    \"A culinária coreana é rica em sabores únicos.\",\n",
        "    \"O teatro de improviso é espontâneo e criativo.\",\n",
        "    \"A biotecnologia industrial desenvolve processos biológicos.\",\n",
        "    \"O cinema de época recria períodos históricos.\",\n",
        "    \"A engenharia aeroespacial desenvolve tecnologias para o espaço.\",\n",
        "    \"A fotografia de natureza captura a fauna e a flora.\",\n",
        "    \"O turismo de aventura oferece desafios emocionantes.\",\n",
        "    \"A arquitetura vernacular é baseada em tradições locais.\",\n",
        "    \"A inteligência artificial pode criar arte.\",\n",
        "    \"A música gospel é inspiradora e espiritual.\",\n",
        "    \"O esporte aquático inclui vela e mergulho.\",\n",
        "    \"A culinária caribenha é vibrante e saborosa.\",\n",
        "    \"O teatro de sombra usa silhuetas para contar histórias.\",\n",
        "    \"A genética molecular estuda os genes em nível molecular.\",\n",
        "    \"O cinema de guerra retrata conflitos militares.\",\n",
        "    \"A engenharia civil projeta infraestruturas urbanas.\",\n",
        "    \"A astronomia planetária estuda os planetas do sistema solar.\",\n",
        "    \"O turismo religioso envolve visitas a locais sagrados.\",\n",
        "    \"A arquitetura industrial é funcional e prática.\",\n",
        "    \"A programação de inteligência artificial está em crescimento.\",\n",
        "    \"A música de samba é alegre e dançante.\",\n",
        "    \"O esporte de aventura inclui parapente e bungee jumping.\",\n",
        "    \"A culinária vegana é saudável e sustentável.\",\n",
        "    \"O teatro de dança combina movimento e atuação.\",\n",
        "    \"A biotecnologia vegetal melhora a agricultura.\",\n",
        "    \"O cinema de comédia garante risadas.\",\n",
        "    \"A engenharia eletrônica desenvolve circuitos e dispositivos.\",\n",
        "    \"A leitura de biografias é inspiradora.\",\n",
        "    \"O turismo de aventura inclui exploração e descoberta.\",\n",
        "    \"A arquitetura minimalista é simples e elegante.\",\n",
        "    \"A inteligência artificial pode otimizar processos.\",\n",
        "    \"A música instrumental é relaxante.\",\n",
        "    \"O esporte promove saúde e bem-estar.\",\n",
        "    \"A culinária fusion combina diferentes tradições.\",\n",
        "    \"O teatro de máscaras usa personagens fantásticos.\",\n",
        "    \"A biotecnologia médica desenvolve tratamentos inovadores.\",\n",
        "    \"O cinema independente é criativo e original.\",\n",
        "    \"A engenharia naval projeta embarcações.\",\n",
        "    \"A fotografia de rua captura momentos urbanos.\",\n",
        "    \"O turismo de aventura oferece experiências únicas.\",\n",
        "    \"A arquitetura colonial reflete a história.\",\n",
        "    \"A programação de jogos é uma indústria em crescimento.\",\n",
        "    \"A música de rock é enérgica e vibrante.\",\n",
        "    \"O esporte de aventura inclui kitesurf e montanhismo.\",\n",
        "    \"A culinária francesa é sofisticada e deliciosa.\",\n",
        "    \"O teatro de marionetes é divertido para todas as idades.\",\n",
        "    \"A biotecnologia alimentar desenvolve novos produtos.\",\n",
        "    \"O cinema noir é conhecido por seu estilo sombrio.\",\n",
        "    \"A engenharia de controle automatiza processos.\",\n",
        "    \"A astronomia observa o universo.\",\n",
        "    \"O turismo de luxo oferece conforto e exclusividade.\",\n",
        "    \"A arquitetura contemporânea é inovadora e criativa.\",\n",
        "    \"A inteligência artificial pode analisar grandes dados.\",\n",
        "    \"A música de jazz é improvisada.\",\n",
        "    \"O esporte é essencial para a saúde.\",\n",
        "    \"A culinária italiana é famosa por sua pasta.\",\n",
        "    \"O teatro de rua é acessível para todos.\",\n",
        "    \"A biotecnologia industrial desenvolve processos novos.\",\n",
        "    \"O cinema de fantasia cria mundos novos.\",\n",
        "    \"A fotografia de moda é glamourosa.\",\n",
        "    \"O turismo cultural enriquece a vida.\",\n",
        "    \"A programação é uma habilidade valiosa.\",\n",
        "    \"A música clássica é atemporal.\",\n",
        "    \"O esporte une as pessoas.\",\n",
        "    \"A culinária japonesa é deliciosa.\",\n",
        "    \"O teatro é uma forma de arte importante.\",\n",
        "    \"O voluntariado é gratificante.\",\n",
        "    \"A moda é uma forma de expressão.\",\n",
        "    \"A arquitetura define espaços.\",\n",
        "    \"A leitura expande o conhecimento.\",\n",
        "    \"A música é uma linguagem universal.\",\n",
        "    \"O esporte promove disciplina.\",\n",
        "    \"A culinária é uma arte.\",\n",
        "    \"O turismo amplia horizontes.\",\n",
        "    \"A tecnologia avança rapidamente.\",\n",
        "    \"A ciência desvenda mistura a natureza.\",\n",
        "    \"A programação de software cria soluções digitais.\",\n",
        "    \"A música é uma forma de arte universal.\",\n",
        "    \"O esporte ensina trabalho em equipe.\",\n",
        "    \"A culinária fusion combina sabores de diferentes culturas.\",\n",
        "    \"O teatro comunitário envolve a participação local.\",\n",
        "    \"A biotecnologia ambiental ajuda na conservação.\",\n",
        "    \"O cinema mudo é uma forma de arte antiga.\",\n",
        "    \"A engenharia de robótica desenvolve máquinas inteligentes.\",\n",
        "    \"A fotografia documental registra a realidade.\",\n",
        "    \"O turismo de natureza promove a conservação ambiental.\",\n",
        "    \"A arquitetura gótica é famosa por suas catedrais imponentes.\",\n",
        "    \"A inteligência artificial está transformando o setor de saúde.\",\n",
        "    \"O esporte de aventura inclui escalada e caiaque.\",\n",
        "    \"A culinária mediterrânea é conhecida por seus benefícios à saúde.\",\n",
        "    \"O teatro de improviso é espontâneo e divertido.\",\n",
        "    \"A biotecnologia genética tem aplicações médicas importantes.\",\n",
        "    \"O cinema de animação usa técnicas diversas para contar histórias.\",\n",
        "    \"A engenharia de sistemas otimiza processos complexos.\",\n",
        "    \"A leitura de ficção científica estimula a imaginação.\",\n",
        "    \"O turismo de aventura proporciona experiências inesquecíveis.\",\n",
        "    \"A arquitetura renascentista reflete a grandiosidade da época.\",\n",
        "    \"A programação de algoritmos resolve problemas complexos.\",\n",
        "    \"A música de concerto é executada por grandes orquestras.\",\n",
        "    \"O esporte motiva a perseverança e a determinação.\",\n",
        "    \"A culinária espanhola é famosa por suas tapas.\",\n",
        "    \"O teatro de bonecos é popular entre as crianças.\",\n",
        "    \"A biotecnologia marinha explora os recursos dos oceanos.\",\n",
        "    \"O cinema experimental desafia as convenções do cinema tradicional.\",\n",
        "    \"A engenharia de produção melhora a eficiência industrial.\",\n",
        "    \"A astronomia observa galáxias e estrelas distantes.\",\n",
        "    \"O turismo histórico explora o patrimônio cultural.\",\n",
        "    \"A arquitetura modernista é caracterizada por formas simples e funcionais.\",\n",
        "    \"A inteligência artificial pode criar novas formas de arte.\",\n",
        "    \"A música gospel é inspiradora e edificante.\",\n",
        "    \"O esporte de resistência inclui triatlos e ultramaratonas.\",\n",
        "    \"A culinária mexicana é famosa por seu sabor e diversidade.\",\n",
        "    \"O teatro de sombras usa silhuetas para contar histórias.\",\n",
        "    \"A genética molecular estuda os genes em detalhe.\",\n",
        "    \"O cinema de guerra retrata conflitos e batalhas.\",\n",
        "    \"A engenharia civil projeta e constrói infraestruturas.\",\n",
        "    \"A astronomia planetária estuda planetas e suas órbitas.\",\n",
        "    \"O turismo religioso atrai peregrinos do mundo todo.\",\n",
        "    \"A arquitetura brutalista usa concreto de forma expressiva.\",\n",
        "    \"A programação de inteligência artificial está em rápido crescimento.\",\n",
        "    \"A música de reggae tem raízes na cultura jamaicana.\",\n",
        "    \"O esporte de aventura inclui escalada em rocha e espeleologia.\",\n",
        "    \"A culinária peruana é conhecida por sua riqueza de sabores.\",\n",
        "    \"O teatro contemporâneo aborda temas atuais e relevantes.\",\n",
        "    \"A genética evolutiva investiga a evolução das espécies.\",\n",
        "    \"O cinema de animação é uma forma de arte versátil.\",\n",
        "    \"A engenharia biomédica desenvolve soluções para a saúde.\",\n",
        "    \"A leitura de romances históricos é educativa e divertida.\",\n",
        "    \"O turismo gastronômico explora a culinária de diferentes regiões.\",\n",
        "    \"A arquitetura paisagística cria espaços verdes e sustentáveis.\",\n",
        "    \"A inteligência artificial pode prever comportamentos.\",\n",
        "    \"A música de blues expressa emoções profundas.\",\n",
        "    \"O esporte de resistência inclui maratonas e provas de longa distância.\",\n",
        "    \"A culinária coreana é famosa por seu kimchi.\",\n",
        "    \"O teatro de dança combina movimento e narrativa.\",\n",
        "    \"A biotecnologia vegetal desenvolve culturas mais resistentes.\",\n",
        "    \"O cinema de comédia é divertido e leve.\",\n",
        "    \"A engenharia eletrônica projeta dispositivos e circuitos.\",\n",
        "    \"A leitura de biografias inspira e educa.\",\n",
        "    \"O turismo de aventura oferece desafios e adrenalina.\",\n",
        "    \"A arquitetura minimalista é simples e funcional.\",\n",
        "    \"A inteligência artificial pode otimizar processos complexos.\",\n",
        "    \"A música instrumental é ideal para relaxar.\",\n",
        "    \"O esporte é fundamental para a saúde física e mental.\",\n",
        "    \"A culinária fusion combina elementos de diferentes tradições.\",\n",
        "    \"O teatro de máscaras é uma forma de arte visualmente impactante.\",\n",
        "    \"A biotecnologia médica desenvolve novos tratamentos.\",\n",
        "    \"O cinema independente é conhecido por sua originalidade.\",\n",
        "    \"A engenharia naval projeta navios e embarcações.\",\n",
        "    \"A fotografia de rua captura a vida urbana em suas diversas formas.\",\n",
        "    \"O turismo de aventura oferece experiências inesquecíveis.\",\n",
        "    \"A arquitetura colonial reflete a história e a cultura de uma época.\",\n",
        "    \"A programação de jogos cria mundos virtuais envolventes.\",\n",
        "    \"O esporte de aventura inclui esportes radicais como bungee jumping.\",\n",
        "    \"A culinária francesa é sofisticada e requintada.\",\n",
        "    \"O teatro de marionetes é uma forma de arte antiga e cativante.\",\n",
        "    \"A biotecnologia alimentar desenvolve alimentos inovadores.\",\n",
        "    \"O cinema noir é caracterizado por seu estilo visual único.\",\n",
        "    \"A engenharia de controle automatiza processos industriais.\",\n",
        "    \"A astronomia estuda o universo e seus mistérios.\",\n",
        "    \"A arquitetura contemporânea é marcada por inovação e criatividade.\",\n",
        "    \"A culinária italiana é famosa por suas massas e pizzas.\",\n",
        "    \"O teatro de rua é uma forma de arte acessível e envolvente.\",\n",
        "    \"A biotecnologia industrial desenvolve novos processos biotecnológicos.\",\n",
        "    \"O cinema de fantasia cria mundos imaginários e mágicos.\",\n",
        "    \"A engenharia química desenvolve processos industriais inovadores.\",\n",
        "    \"A fotografia de moda é uma indústria glamourosa e competitiva.\",\n",
        "    \"O turismo cultural enriquece a vida e expande horizontes.\",\n",
        "    \"A arquitetura moderna é funcional e esteticamente agradável.\",\n",
        "    \"A programação é uma habilidade essencial no mundo digital.\",\n",
        "    \"A música clássica é uma forma de arte atemporal.\",\n",
        "    \"O esporte une pessoas de diferentes culturas e origens.\",\n",
        "    \"A culinária japonesa é conhecida por sua precisão e sabor.\",\n",
        "    \"O teatro é uma forma de arte que envolve atuação ao vivo.\",\n",
        "    \"A ciência está em constante evolução e descoberta.\",\n",
        "    \"O voluntariado é uma forma de ajudar a comunidade.\",\n",
        "    \"A moda é uma forma de expressão pessoal e cultural.\",\n",
        "    \"A arquitetura define os espaços em que vivemos.\",\n",
        "    \"A leitura expande o conhecimento e a imaginação.\",\n",
        "    \"A música é uma linguagem universal que conecta pessoas.\",\n",
        "    \"O esporte promove disciplina, saúde e bem-estar.\",\n",
        "    \"A culinária é uma arte que envolve sabores e técnicas.\",\n",
        "    \"O turismo amplia horizontes e enriquece a vida.\",\n",
        "    \"A tecnologia avança rapidamente e transforma o mundo.\",\n",
        "    \"A ciência desvenda mistérios e melhora a vida.\",\n",
        "    \"A programação de software cria soluções digitais inovadoras.\",\n",
        "    \"A música é uma forma de arte universal e atemporal.\",\n",
        "    \"O esporte ensina trabalho em equipe e resiliência.\",\n",
        "    \"O teatro comunitário envolve a participação local e a arte.\",\n",
        "    \"A biotecnologia ambiental ajuda na conservação do meio ambiente.\",\n",
        "    \"O cinema mudo é uma forma de arte antiga e cativante.\",\n",
        "    \"A engenharia de robótica desenvolve máquinas inteligentes e eficientes.\",\n",
        "    \"A fotografia documental registra a realidade e conta histórias.\",\n",
        "    \"O turismo de natureza promove a conservação ambiental e o ecoturismo.\",\n",
        "    \"A arquitetura gótica é famosa por suas catedrais imponentes e detalhadas.\",\n",
        "    \"A música folclórica preserva tradições culturais e histórias locais.\",\n",
        "    \"O esporte de aventura inclui atividades como escalada e caiaque.\",\n",
        "    \"O teatro de improviso é espontâneo e envolvente.\",\n",
        "    \"A biotecnologia genética tem aplicações médicas e agrícolas.\",\n",
        "    \"O cinema de animação usa técnicas diversas para contar histórias cativantes.\",\n",
        "    \"A engenharia de sistemas otimiza processos complexos e eficientes.\",\n",
        "    \"A leitura de ficção científica estimula a imaginação e a criatividade.\",\n",
        "    \"A programação de algoritmos resolve problemas complexos e desafiadores.\",\n",
        "    \"A culinária espanhola é famosa por suas tapas e sabores únicos.\",\n",
        "    \"O teatro de bonecos é popular entre crianças e adultos.\",\n",
        "    \"A inteligência artificial pode criar novas formas de arte e inovação.\",\n",
        "]"
      ]
    },
    {
      "cell_type": "markdown",
      "source": [
        "# Corpus Textual 2 (Machado de Assis)"
      ],
      "metadata": {
        "id": "7eY2zvt3TESm"
      }
    },
    {
      "cell_type": "code",
      "source": [
        "# Carregar textos dos arquivos\n",
        "def load_text(file_path):\n",
        "    with open(file_path, 'r', encoding='utf-8') as file:\n",
        "        return file.read()\n",
        "\n",
        "# Dividir texto em sentenças\n",
        "def text_to_sentences(text):\n",
        "    return nltk.sent_tokenize(text, language='portuguese')\n",
        "\n",
        "textos = [\n",
        "    # 'DomCasmurro-completo.txt',\n",
        "    # 'EsauEJaco-completo.txt',\n",
        "    'Memorias-completo.txt',\n",
        "    # 'QuincasBorba-completo.txt'\n",
        "]\n",
        "\n",
        "documentos = []\n",
        "for arquivo in textos:\n",
        "    texto = load_text(arquivo)\n",
        "    sentences = text_to_sentences(texto)\n",
        "    documentos.extend(sentences)"
      ],
      "metadata": {
        "id": "Yt8g8zdWTGTa"
      },
      "execution_count": null,
      "outputs": []
    },
    {
      "cell_type": "markdown",
      "source": [
        "# Corpus Textual 3 (dataset Kaggle)\n",
        "\n",
        "Comentários sobre atrações turísticas: https://www.kaggle.com/datasets/jeffersonsfilho/dadosatracoesturisticasbr\n",
        "\n",
        "É necessário selecionar alguns CSVs e rodar o código localmente, devido à restrição de RAM na versão gratuita do Colab"
      ],
      "metadata": {
        "id": "L0aBMX-kaiog"
      }
    },
    {
      "cell_type": "code",
      "source": [
        "import zipfile\n",
        "import os\n",
        "\n",
        "# Define o caminho do arquivo zip e o nome do diretório de extração\n",
        "zip_file_path = 'comentarios_turismo_br.zip'\n",
        "extraction_dir = 'comentarios_atracoes_turisticas'\n",
        "\n",
        "# Cria o diretório de extração, caso ele não exista\n",
        "os.makedirs(extraction_dir, exist_ok=True)\n",
        "\n",
        "# Executa a extração do arquivo zip\n",
        "with zipfile.ZipFile(zip_file_path, 'r') as zip_ref:\n",
        "    zip_ref.extractall(extraction_dir)\n",
        "\n",
        "# Lista o conteúdo do diretório criado\n",
        "extracted_files = os.listdir(extraction_dir)\n",
        "extracted_files\n"
      ],
      "metadata": {
        "id": "XVpde0Ykavld"
      },
      "execution_count": null,
      "outputs": []
    },
    {
      "cell_type": "code",
      "source": [
        "import pandas as pd\n",
        "import os\n",
        "import csv\n",
        "\n",
        "# Define o diretório onde os arquivos CSV estão localizados\n",
        "csv_dir = 'comentarios_atracoes_turisticas'\n",
        "\n",
        "# Lista todos os arquivos CSV no diretório\n",
        "csv_files = [f for f in os.listdir(csv_dir) if f.endswith('.csv')]\n",
        "\n",
        "# Inicializa uma lista vazia para armazenar todos os comentários\n",
        "documentos = []\n",
        "\n",
        "# Loop através de cada arquivo CSV e extrai os comentários\n",
        "for csv_file in csv_files:\n",
        "    # Constrói o caminho completo do arquivo\n",
        "    file_path = os.path.join(csv_dir, csv_file)\n",
        "    try:\n",
        "        # Abre o arquivo CSV\n",
        "        with open(file_path, mode='r', encoding='utf-8') as file:\n",
        "            reader = csv.DictReader(file, delimiter=';')\n",
        "            # Verifica se a coluna 'comentario' existe\n",
        "            if 'comentario' in reader.fieldnames:\n",
        "                # Extrai a coluna 'comentario'\n",
        "                for row in reader:\n",
        "                    documentos.append(row['comentario'])\n",
        "            else:\n",
        "                print(f\"Coluna 'comentario' não encontrada em {csv_file}\")\n",
        "    except Exception as e:\n",
        "        print(f\"Erro ao ler {csv_file}: {e}\")\n",
        "\n",
        "# Converte a lista de documentos em um DataFrame\n",
        "df_documentos = pd.DataFrame(documentos, columns=['Comentário'])\n",
        "\n",
        "# Exibe as primeiras entradas de 'documentos' para verificar\n",
        "print(df_documentos.head(10))\n"
      ],
      "metadata": {
        "id": "qG2CirhCa9E5"
      },
      "execution_count": null,
      "outputs": []
    },
    {
      "cell_type": "markdown",
      "source": [
        "# **Pré-processamento de Texto e Redução de Dimensionalidade**"
      ],
      "metadata": {
        "id": "iv07Hs9kP-nY"
      }
    },
    {
      "cell_type": "code",
      "source": [
        "import matplotlib.pyplot as plt\n",
        "from sklearn.decomposition import PCA\n",
        "from sklearn.feature_extraction.text import TfidfVectorizer\n",
        "from nltk.corpus import stopwords\n",
        "\n",
        "# Vetorização com NLTK Stop Words\n",
        "stop_words = stopwords.words('portuguese')\n",
        "vectorizer = TfidfVectorizer(stop_words=stop_words)\n",
        "X = vectorizer.fit_transform(documentos).toarray()\n",
        "\n",
        "# Redução para 2D\n",
        "pca = PCA(n_components=2)\n",
        "X_reduced = pca.fit_transform(X)\n"
      ],
      "metadata": {
        "id": "uVQjgmBQQAyt"
      },
      "execution_count": null,
      "outputs": []
    },
    {
      "cell_type": "markdown",
      "source": [
        "# **Função de Plotagem**"
      ],
      "metadata": {
        "id": "qyyXwsUMQEfA"
      }
    },
    {
      "cell_type": "code",
      "source": [
        "def plot_clusters(X, clusters, title):\n",
        "    plt.scatter(X[:, 0], X[:, 1], c=clusters, cmap='viridis')\n",
        "    plt.title(title)\n",
        "    plt.xlabel('PCA Componente 1')\n",
        "    plt.ylabel('PCA Componente 2')\n",
        "    plt.colorbar()\n",
        "    plt.show()\n"
      ],
      "metadata": {
        "id": "3pBbM_BNQHFv"
      },
      "execution_count": null,
      "outputs": []
    },
    {
      "cell_type": "markdown",
      "source": [
        "# **Métodos de Clusterização**"
      ],
      "metadata": {
        "id": "olyy2EDxkPgo"
      }
    },
    {
      "cell_type": "markdown",
      "source": [
        "# Affinity Propagation"
      ],
      "metadata": {
        "id": "mvlhOyUpQJ2E"
      }
    },
    {
      "cell_type": "code",
      "source": [
        "from sklearn.cluster import AffinityPropagation\n",
        "\n",
        "affinity_propagation = AffinityPropagation()\n",
        "clusters = affinity_propagation.fit_predict(X)\n",
        "plot_clusters(X_reduced, clusters, \"Affinity Propagation Clusters\")\n"
      ],
      "metadata": {
        "id": "f7ZzL96KQJHI"
      },
      "execution_count": null,
      "outputs": []
    },
    {
      "cell_type": "markdown",
      "source": [
        "# Agglomerative Clustering"
      ],
      "metadata": {
        "id": "P8nxYAsjRG6J"
      }
    },
    {
      "cell_type": "code",
      "source": [
        "from sklearn.cluster import AgglomerativeClustering\n",
        "\n",
        "agg_clustering = AgglomerativeClustering(n_clusters=3)\n",
        "clusters = agg_clustering.fit_predict(X)\n",
        "plot_clusters(X_reduced, clusters, \"Agglomerative Clustering Clusters\")\n"
      ],
      "metadata": {
        "id": "c7HJNNUcRIwc"
      },
      "execution_count": null,
      "outputs": []
    },
    {
      "cell_type": "markdown",
      "source": [
        "# BIRCH"
      ],
      "metadata": {
        "id": "h8_GSjLVRMNX"
      }
    },
    {
      "cell_type": "code",
      "source": [
        "from sklearn.cluster import Birch\n",
        "\n",
        "birch = Birch(n_clusters=3)\n",
        "clusters = birch.fit_predict(X)\n",
        "plot_clusters(X_reduced, clusters, \"BIRCH Clusters\")\n"
      ],
      "metadata": {
        "id": "w1ZV2T58RN1e"
      },
      "execution_count": null,
      "outputs": []
    },
    {
      "cell_type": "markdown",
      "source": [
        "# DBSCAN"
      ],
      "metadata": {
        "id": "xopY2fHmRQ-P"
      }
    },
    {
      "cell_type": "code",
      "source": [
        "from sklearn.cluster import DBSCAN\n",
        "\n",
        "dbscan = DBSCAN(eps=0.5, min_samples=2)\n",
        "clusters = dbscan.fit_predict(X)\n",
        "plot_clusters(X_reduced, clusters, \"DBSCAN Clusters\")\n"
      ],
      "metadata": {
        "id": "sEWjZmqORSwK"
      },
      "execution_count": null,
      "outputs": []
    },
    {
      "cell_type": "markdown",
      "source": [
        "# K-Means"
      ],
      "metadata": {
        "id": "vWakDh20RWJt"
      }
    },
    {
      "cell_type": "code",
      "source": [
        "from sklearn.cluster import KMeans\n",
        "\n",
        "kmeans = KMeans(n_clusters=3, random_state=42)\n",
        "clusters = kmeans.fit_predict(X)\n",
        "plot_clusters(X_reduced, clusters, \"K-Means Clusters\")\n"
      ],
      "metadata": {
        "id": "9-MOh4PfRX6G"
      },
      "execution_count": null,
      "outputs": []
    },
    {
      "cell_type": "markdown",
      "source": [
        "# Mini-Batch K-Means"
      ],
      "metadata": {
        "id": "5OjyHfmzRcOM"
      }
    },
    {
      "cell_type": "code",
      "source": [
        "from sklearn.cluster import MiniBatchKMeans\n",
        "\n",
        "mini_batch_kmeans = MiniBatchKMeans(n_clusters=3, random_state=42)\n",
        "clusters = mini_batch_kmeans.fit_predict(X)\n",
        "plot_clusters(X_reduced, clusters, \"Mini-Batch K-Means Clusters\")\n"
      ],
      "metadata": {
        "id": "VFBShjKcRbhZ"
      },
      "execution_count": null,
      "outputs": []
    },
    {
      "cell_type": "markdown",
      "source": [
        "# Mean Shift"
      ],
      "metadata": {
        "id": "7D_TRAMURhje"
      }
    },
    {
      "cell_type": "code",
      "source": [
        "from sklearn.cluster import MeanShift\n",
        "\n",
        "mean_shift = MeanShift()\n",
        "clusters = mean_shift.fit_predict(X)\n",
        "plot_clusters(X_reduced, clusters, \"Mean Shift Clusters\")\n"
      ],
      "metadata": {
        "id": "2c3vaP5fRjTd"
      },
      "execution_count": null,
      "outputs": []
    },
    {
      "cell_type": "markdown",
      "source": [
        "# OPTICS"
      ],
      "metadata": {
        "id": "Bnv92aYSRm9I"
      }
    },
    {
      "cell_type": "code",
      "source": [
        "from sklearn.cluster import OPTICS\n",
        "\n",
        "optics = OPTICS(min_samples=2)\n",
        "clusters = optics.fit_predict(X)\n",
        "plot_clusters(X_reduced, clusters, \"OPTICS Clusters\")\n"
      ],
      "metadata": {
        "id": "j62IcP4fRofV"
      },
      "execution_count": null,
      "outputs": []
    },
    {
      "cell_type": "markdown",
      "source": [
        "# Spectral Clustering"
      ],
      "metadata": {
        "id": "D-mFV4tVSc-R"
      }
    },
    {
      "cell_type": "code",
      "source": [
        "from sklearn.cluster import SpectralClustering\n",
        "\n",
        "spectral_clustering = SpectralClustering(n_clusters=3, random_state=42, affinity='nearest_neighbors')\n",
        "clusters = spectral_clustering.fit_predict(X)\n",
        "plot_clusters(X_reduced, clusters, \"Spectral Clustering Clusters\")\n"
      ],
      "metadata": {
        "id": "k-aTjy4fSew_"
      },
      "execution_count": null,
      "outputs": []
    },
    {
      "cell_type": "markdown",
      "source": [
        "# Mixture of Gaussians (Gaussian Mixture Model)"
      ],
      "metadata": {
        "id": "XX4r0R13Sh-c"
      }
    },
    {
      "cell_type": "code",
      "source": [
        "from sklearn.mixture import GaussianMixture\n",
        "\n",
        "gmm = GaussianMixture(n_components=3, random_state=42)\n",
        "clusters = gmm.fit_predict(X)\n",
        "plot_clusters(X_reduced, clusters, \"Mixture of Gaussians Clusters\")\n"
      ],
      "metadata": {
        "id": "Po6HqPiNSj2I"
      },
      "execution_count": null,
      "outputs": []
    }
  ]
}